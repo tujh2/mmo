{
 "cells": [
  {
   "cell_type": "markdown",
   "id": "8c376d49-0231-40ed-aad0-87f4ad5e533c",
   "metadata": {},
   "source": [
    "# ММО Сысойкин Егор ИУ5-21М РК2"
   ]
  },
  {
   "cell_type": "markdown",
   "id": "4a16d8f0-7c6a-4dfb-9b9b-58181244aeeb",
   "metadata": {},
   "source": [
    "Алгоритм: Q-обучение \\\n",
    "Подобрать оптимальные гиперпараметры, критерий - суммарная награда \\\n",
    "default params: eps=0.4, lr=0.1, gamma=0.98"
   ]
  },
  {
   "cell_type": "markdown",
   "id": "2ffbf4d3-547c-4812-a7c5-ab3af89edc12",
   "metadata": {},
   "source": [
    "<div>\n",
    "    <img src=\"default(0.4,0.1,0.98).png\" width=\"800\"/>\n",
    "    <br>\n",
    "    <caption>Рис. 1 Награды по эпизодам(исходные гиперпараметры)</caption>\n",
    "</div>"
   ]
  },
  {
   "cell_type": "markdown",
   "id": "7afbfdf7-dc6b-47df-93b1-b0a9c72e76dd",
   "metadata": {},
   "source": [
    "## Подбор гиперпараметров"
   ]
  },
  {
   "cell_type": "markdown",
   "id": "dbffad9b-6e0d-4f58-8b01-2afaed285fff",
   "metadata": {},
   "source": [
    "<div>\n",
    "    <img src=\"Figure_1.png\" width=\"1000\"/>\n",
    "    <br>\n",
    "    <caption>Рис. 2 Подбор eps</caption>\n",
    "</div>"
   ]
  },
  {
   "cell_type": "markdown",
   "id": "6c2c88cd-b600-40d6-8ddf-d745dd77f8bd",
   "metadata": {},
   "source": [
    "<div>\n",
    "    <img src=\"Figure_2.png\" width=1000 />\n",
    "    <br>\n",
    "    <caption>Рис. 3 Подбор lr</caption>\n",
    "</div>"
   ]
  },
  {
   "cell_type": "markdown",
   "id": "6f70d2a3-ef5e-4e56-b5f1-94502f2ad73d",
   "metadata": {},
   "source": [
    "<div>\n",
    "    <img src=\"Figure_3.png\" width=\"1000\"/>\n",
    "    <br>\n",
    "    <caption>Рис. 4 Подбор gamma</caption>\n",
    "</div>"
   ]
  },
  {
   "cell_type": "markdown",
   "id": "ba2b0090-506d-400f-bebd-000b4144c3b2",
   "metadata": {},
   "source": [
    "## Результат"
   ]
  },
  {
   "cell_type": "markdown",
   "id": "3e1f47c4-4927-4c70-98de-5cfe115e0728",
   "metadata": {},
   "source": [
    "**BEST PARAMS: eps=0.0, lr=0.96, gamma=0.48**"
   ]
  },
  {
   "cell_type": "markdown",
   "id": "cbb8843b-2e44-42c0-9e38-94ad40e34b1c",
   "metadata": {},
   "source": [
    "<div>\n",
    "    <img src=\"best(0.0,0.96,0.48).png\" width=\"800\"/>\n",
    "    <br>\n",
    "    <caption>Рис. 5 Лучшие гиперпараметры</caption>\n",
    "</div>"
   ]
  },
  {
   "cell_type": "markdown",
   "id": "663d7760-07a3-44db-be4d-1df255706d78",
   "metadata": {},
   "source": [
    "## Вывод"
   ]
  },
  {
   "cell_type": "markdown",
   "id": "cb34e416-9461-450f-bab4-3bc40fa39124",
   "metadata": {},
   "source": [
    "Исходя из графиков, изображенных на Рис.1 и Рис.5 можно сделать вывод, что при найденых гиперпараметрах модель сходится значительно быстрее"
   ]
  },
  {
   "cell_type": "code",
   "execution_count": null,
   "id": "b6dff9f3-2440-4919-b31b-875f90d04d72",
   "metadata": {},
   "outputs": [],
   "source": []
  }
 ],
 "metadata": {
  "kernelspec": {
   "display_name": "Python 3 (ipykernel)",
   "language": "python",
   "name": "python3"
  },
  "language_info": {
   "codemirror_mode": {
    "name": "ipython",
    "version": 3
   },
   "file_extension": ".py",
   "mimetype": "text/x-python",
   "name": "python",
   "nbconvert_exporter": "python",
   "pygments_lexer": "ipython3",
   "version": "3.11.3"
  }
 },
 "nbformat": 4,
 "nbformat_minor": 5
}
